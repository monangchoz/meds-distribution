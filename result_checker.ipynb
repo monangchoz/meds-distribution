{
 "cells": [
  {
   "cell_type": "code",
   "execution_count": 12,
   "id": "f5400a2d",
   "metadata": {},
   "outputs": [
    {
     "name": "stdout",
     "output_type": "stream",
     "text": [
      "MKS_nc_48_ncl_3_nv_100_historical_4\n"
     ]
    }
   ],
   "source": [
    "import os\n",
    "import pathlib\n",
    "\n",
    "import numpy as np\n",
    "\n",
    "algo_names = [\"ga\"]\n",
    "\n",
    "for algo_name in algo_names:\n",
    "    instance_names = os.listdir(\"instances\")\n",
    "    for instance_name in instance_names:\n",
    "        instance_name_without_extension = instance_name[:-5]\n",
    "        result_file_path = pathlib.Path()/\"results\"/algo_name/(instance_name_without_extension+\".csv\")\n",
    "        try:\n",
    "            result_np = np.loadtxt(result_file_path.absolute(), delimiter=\",\")\n",
    "        except FileNotFoundError:\n",
    "            print(instance_name_without_extension)\n",
    "    # for log_filename in log_filenames:\n",
    "    #     with open(\"logs/\"+log_filename, \"r\", encoding=\"utf-8\") as f:\n",
    "    #         lines = f.readlines()\n",
    "    #         if \"avns_27764\" in log_filename:\n",
    "    #             print(log_filename)\n",
    "    #             print(lines)\n",
    "    #             print(\"-------\")"
   ]
  }
 ],
 "metadata": {
  "kernelspec": {
   "display_name": "3lvrp",
   "language": "python",
   "name": "python3"
  },
  "language_info": {
   "codemirror_mode": {
    "name": "ipython",
    "version": 3
   },
   "file_extension": ".py",
   "mimetype": "text/x-python",
   "name": "python",
   "nbconvert_exporter": "python",
   "pygments_lexer": "ipython3",
   "version": "3.13.0"
  }
 },
 "nbformat": 4,
 "nbformat_minor": 5
}
